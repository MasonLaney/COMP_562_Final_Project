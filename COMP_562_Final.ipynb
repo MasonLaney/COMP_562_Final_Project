{
  "nbformat": 4,
  "nbformat_minor": 0,
  "metadata": {
    "colab": {
      "name": "COMP 562 Final.ipynb",
      "provenance": []
    },
    "kernelspec": {
      "name": "python3",
      "display_name": "Python 3"
    },
    "language_info": {
      "name": "python"
    }
  },
  "cells": [
    {
      "cell_type": "code",
      "execution_count": 28,
      "metadata": {
        "id": "aJcAlesL03rt"
      },
      "outputs": [],
      "source": [
        "# data setup\n",
        "import numpy as np\n",
        "import matplotlib.pyplot as plt\n",
        "import pandas as pd\n",
        "\n",
        "# import data from file\n",
        "pd_data = pd.read_excel(r'augmented_macro_features.xlsx', sheet_name='features')\n",
        "pd_data = pd_data.sample(frac=1)\n",
        "\n",
        "# convert data\n",
        "data = pd_data.to_numpy()\n",
        "train = data[:4000]\n",
        "test = data[4000:]\n",
        "\n",
        "train_x = train[:,1:]\n",
        "train_y = train[:,0]\n",
        "test_x = test[:,1:]\n",
        "test_y = test[:,0]\n"
      ]
    },
    {
      "cell_type": "code",
      "source": [
        "# evaluation metrics\n",
        "from sklearn.metrics import mean_absolute_percentage_error, explained_variance_score, max_error, r2_score\n",
        "\n",
        "print('Evaluation Metrics:')\n",
        "print(' MAPE: Mean Absolute Percentage Error (1 = 100% error; lower is better)')\n",
        "print(' EV: Explained Variance ([0, 1], higher is better)')\n",
        "print(' MAX: Max Error (raw number, lower is better)')\n",
        "print()"
      ],
      "metadata": {
        "colab": {
          "base_uri": "https://localhost:8080/"
        },
        "id": "rnXBTmZB1_sC",
        "outputId": "ba936e79-07d0-4a87-8b2e-911c4841070e"
      },
      "execution_count": 131,
      "outputs": [
        {
          "output_type": "stream",
          "name": "stdout",
          "text": [
            "Evaluation Metrics:\n",
            " MAPE: Mean Absolute Percentage Error (1 = 100% error; lower is better)\n",
            " EV: Explained Variance ([0, 1], higher is better)\n",
            " MAX: Max Error (raw number, lower is better)\n",
            "\n"
          ]
        }
      ]
    },
    {
      "cell_type": "code",
      "source": [
        "# Linear Regression\n",
        "from sklearn import linear_model\n",
        "\n",
        "# fit model\n",
        "lr_model = linear_model.LinearRegression()\n",
        "lr_fitted = lr_model.fit(train_x, train_y)\n",
        "\n",
        "# test\n",
        "lr_pred_y = lr_fitted.predict(test_x)\n",
        "\n",
        "# evaluation of Linear Regression\n",
        "print('LR model:')\n",
        "print(' MAPE: ' + str(mean_absolute_percentage_error(test_y, lr_pred_y)))\n",
        "print(' EV: ' + str(explained_variance_score(test_y, lr_pred_y)))\n",
        "print(' MAX: ' + str(max_error(test_y, lr_pred_y)))\n",
        "print()"
      ],
      "metadata": {
        "colab": {
          "base_uri": "https://localhost:8080/"
        },
        "id": "1LMX7fMMwSoN",
        "outputId": "73419d7e-e155-4bda-a35d-f5399f618eb4"
      },
      "execution_count": 99,
      "outputs": [
        {
          "output_type": "stream",
          "name": "stdout",
          "text": [
            "LR model:\n",
            " MAPE: 1.896266298819565\n",
            " EV: 0.6409134974348276\n",
            " MAX: 18.32136211018026\n",
            "\n"
          ]
        }
      ]
    },
    {
      "cell_type": "code",
      "source": [
        "# Ridge Regression\n",
        "\n",
        "# hyperparameters\n",
        "alpha = 1\n",
        "\n",
        "# fit model\n",
        "rr_model = linear_model.Ridge(alpha)\n",
        "rr_fitted = rr_model.fit(train_x, train_y)\n",
        "\n",
        "# test\n",
        "rr_pred_y = rr_fitted.predict(test_x)\n",
        "\n",
        "# evaluation of Ridge Regression\n",
        "print('RR model:')\n",
        "print(' MAPE: ' + str(mean_absolute_percentage_error(test_y, rr_pred_y)))\n",
        "print(' EV: ' + str(explained_variance_score(test_y, rr_pred_y)))\n",
        "print(' MAX: ' + str(max_error(test_y, rr_pred_y)))\n",
        "print()"
      ],
      "metadata": {
        "colab": {
          "base_uri": "https://localhost:8080/"
        },
        "id": "VhQlyapow_JZ",
        "outputId": "706ff2bf-26e2-41ec-f849-868c68400304"
      },
      "execution_count": 110,
      "outputs": [
        {
          "output_type": "stream",
          "name": "stdout",
          "text": [
            "RR model:\n",
            " MAPE: 1.8961814419746374\n",
            " EV: 0.6409195049114356\n",
            " MAX: 18.321767423434483\n",
            "\n"
          ]
        }
      ]
    },
    {
      "cell_type": "code",
      "source": [
        "# Random Forests\n",
        "from sklearn import ensemble\n",
        "\n",
        "# hyperparameters\n",
        "max_depth = None\n",
        "max_features = 0.5\n",
        "\n",
        "# test different numbers of trees (40 seems to be best)\n",
        "for i in [10, 20, 30, 40, 50, 100, 200, 500]:\n",
        "  n_estimators = i\n",
        "  \n",
        "  # fit model\n",
        "  rf_model = ensemble.RandomForestRegressor(n_estimators=n_estimators, max_depth=max_depth, max_features=max_features)\n",
        "  rf_fitted = rf_model.fit(train_x, train_y)\n",
        "\n",
        "  # test\n",
        "  rf_pred_y = rf_fitted.predict(test_x)\n",
        "\n",
        "  # evaluation of Random Forest\n",
        "  print('RF model (' + str(i) + ' trees):')\n",
        "  print(' MAPE: ' + str(mean_absolute_percentage_error(test_y, rf_pred_y)))\n",
        "  print(' EV: ' + str(explained_variance_score(test_y, rf_pred_y)))\n",
        "  print(' MAX: ' + str(max_error(test_y, rf_pred_y)))\n",
        "  print()"
      ],
      "metadata": {
        "colab": {
          "base_uri": "https://localhost:8080/"
        },
        "id": "DyTe5jmfyoPA",
        "outputId": "08bd1e5d-5257-49ff-baf8-7f42bab37ba5"
      },
      "execution_count": 114,
      "outputs": [
        {
          "output_type": "stream",
          "name": "stdout",
          "text": [
            "RF model (10 trees):\n",
            " MAPE: 1.6327125422592712\n",
            " EV: 0.8048694442347213\n",
            " MAX: 11.724140774364358\n",
            "\n",
            "RF model (20 trees):\n",
            " MAPE: 1.4239736035878106\n",
            " EV: 0.8183696961344338\n",
            " MAX: 12.682857824162665\n",
            "\n",
            "RF model (30 trees):\n",
            " MAPE: 1.5012884354716327\n",
            " EV: 0.8192651563011109\n",
            " MAX: 13.248855413947586\n",
            "\n",
            "RF model (40 trees):\n",
            " MAPE: 1.3262540978355317\n",
            " EV: 0.8239574488091255\n",
            " MAX: 12.43344689963114\n",
            "\n",
            "RF model (50 trees):\n",
            " MAPE: 1.4105350070324334\n",
            " EV: 0.8235858617896669\n",
            " MAX: 13.59422787010687\n",
            "\n",
            "RF model (100 trees):\n",
            " MAPE: 1.3823816406711604\n",
            " EV: 0.8237369330638293\n",
            " MAX: 12.667780336352827\n",
            "\n",
            "RF model (200 trees):\n",
            " MAPE: 1.3715451227231785\n",
            " EV: 0.8269972947846692\n",
            " MAX: 12.918225011420716\n",
            "\n",
            "RF model (500 trees):\n",
            " MAPE: 1.3999596462843313\n",
            " EV: 0.8330401936179711\n",
            " MAX: 12.070347174044343\n",
            "\n"
          ]
        }
      ]
    },
    {
      "cell_type": "code",
      "source": [
        "# Random Forests\n",
        "from sklearn import ensemble\n",
        "\n",
        "# hyperparameters\n",
        "max_depth = None\n",
        "n_estimators = 40\n",
        "\n",
        "# test different numbers for percentage of features used (1 seems to be best)\n",
        "for i in [0.1, 0.2, 0.3, 0.4, 0.5, 0.6, 0.7, 0.8, 0.9, 1]:\n",
        "  max_features = i\n",
        "  \n",
        "  # fit model\n",
        "  rf_model = ensemble.RandomForestRegressor(n_estimators=n_estimators, max_depth=max_depth, max_features=max_features)\n",
        "  rf_fitted = rf_model.fit(train_x, train_y)\n",
        "\n",
        "  # test\n",
        "  rf_pred_y = rf_fitted.predict(test_x)\n",
        "\n",
        "  # evaluation of Random Forest\n",
        "  print('RF model (max_features = ' + str(i) + '):')\n",
        "  print(' MAPE: ' + str(mean_absolute_percentage_error(test_y, rf_pred_y)))\n",
        "  print(' EV: ' + str(explained_variance_score(test_y, rf_pred_y)))\n",
        "  print(' MAX: ' + str(max_error(test_y, rf_pred_y)))\n",
        "  print()"
      ],
      "metadata": {
        "colab": {
          "base_uri": "https://localhost:8080/"
        },
        "id": "f7fm8PoR5Xia",
        "outputId": "537f3099-effc-4bc8-c9f9-2e898d350e1d"
      },
      "execution_count": 116,
      "outputs": [
        {
          "output_type": "stream",
          "name": "stdout",
          "text": [
            "RF model (max_features = 0.1):\n",
            " MAPE: 1.2251031538204211\n",
            " EV: 0.8369634502061662\n",
            " MAX: 12.001151828014098\n",
            "\n",
            "RF model (max_features = 0.2):\n",
            " MAPE: 1.4712881535809788\n",
            " EV: 0.8407437331687235\n",
            " MAX: 12.52597030331758\n",
            "\n",
            "RF model (max_features = 0.3):\n",
            " MAPE: 1.4210362325244674\n",
            " EV: 0.834150172452086\n",
            " MAX: 11.681101749804464\n",
            "\n",
            "RF model (max_features = 0.4):\n",
            " MAPE: 1.4223922053887585\n",
            " EV: 0.8261381722319581\n",
            " MAX: 12.12482985752198\n",
            "\n",
            "RF model (max_features = 0.5):\n",
            " MAPE: 1.3943649577106298\n",
            " EV: 0.8233580616031753\n",
            " MAX: 12.765162430534138\n",
            "\n",
            "RF model (max_features = 0.6):\n",
            " MAPE: 1.3853655027141072\n",
            " EV: 0.8216325457187601\n",
            " MAX: 13.835071074101455\n",
            "\n",
            "RF model (max_features = 0.7):\n",
            " MAPE: 1.6143170838089753\n",
            " EV: 0.819919102840764\n",
            " MAX: 14.135876303295133\n",
            "\n",
            "RF model (max_features = 0.8):\n",
            " MAPE: 1.4526121183007876\n",
            " EV: 0.8208258664762146\n",
            " MAX: 12.322249180430134\n",
            "\n",
            "RF model (max_features = 0.9):\n",
            " MAPE: 1.445507330153936\n",
            " EV: 0.814145233042066\n",
            " MAX: 14.235900976437682\n",
            "\n",
            "RF model (max_features = 1):\n",
            " MAPE: 1.1778254819160985\n",
            " EV: 0.848327808370743\n",
            " MAX: 11.167839450202287\n",
            "\n"
          ]
        }
      ]
    },
    {
      "cell_type": "code",
      "source": [
        "# KNN\n",
        "from sklearn import neighbors\n",
        "\n",
        "# hyperparameters\n",
        "weights = \"uniform\" # uniform weights, could instead be \"distance\"\n",
        "\n",
        "# test different values for k (6 seems to be best)\n",
        "for k in [1, 2, 3, 4, 5, 6, 7, 8, 9, 10, 20, 50]:\n",
        "  num_neighbors = k\n",
        "\n",
        "  # fit model\n",
        "  knn_model = neighbors.KNeighborsRegressor(num_neighbors, weights=weights)\n",
        "  knn_fitted = knn_model.fit(train_x, train_y)\n",
        "\n",
        "  # test\n",
        "  knn_pred_y = knn_fitted.predict(test_x)\n",
        "\n",
        "  # evaluation of KNN\n",
        "  print('KNN model (k = ' + str(k) + '):')\n",
        "  print(' MAPE: ' + str(mean_absolute_percentage_error(test_y, knn_pred_y)))\n",
        "  print(' EV: ' + str(explained_variance_score(test_y, knn_pred_y)))\n",
        "  print(' MAX: ' + str(max_error(test_y, knn_pred_y)))\n",
        "  print()"
      ],
      "metadata": {
        "id": "-xTBruO01Sky",
        "colab": {
          "base_uri": "https://localhost:8080/"
        },
        "outputId": "2d673492-4ea4-430a-a154-0b49a4340374"
      },
      "execution_count": 120,
      "outputs": [
        {
          "output_type": "stream",
          "name": "stdout",
          "text": [
            "KNN model (k = 1):\n",
            " MAPE: 2.268941076929506\n",
            " EV: 0.7213100050736468\n",
            " MAX: 14.095244500525926\n",
            "\n",
            "KNN model (k = 2):\n",
            " MAPE: 2.1820564910895146\n",
            " EV: 0.7777787324626154\n",
            " MAX: 12.028219932032725\n",
            "\n",
            "KNN model (k = 3):\n",
            " MAPE: 2.014521550527724\n",
            " EV: 0.7761795411187308\n",
            " MAX: 14.88917944281847\n",
            "\n",
            "KNN model (k = 4):\n",
            " MAPE: 1.7909102469370306\n",
            " EV: 0.7829480274114182\n",
            " MAX: 12.539248514274034\n",
            "\n",
            "KNN model (k = 5):\n",
            " MAPE: 1.7259681697541056\n",
            " EV: 0.7780030064198209\n",
            " MAX: 13.537621880658598\n",
            "\n",
            "KNN model (k = 6):\n",
            " MAPE: 1.6279664830562153\n",
            " EV: 0.770766951099797\n",
            " MAX: 14.173002828689324\n",
            "\n",
            "KNN model (k = 7):\n",
            " MAPE: 1.6697504751978218\n",
            " EV: 0.7632357628601817\n",
            " MAX: 14.218274380676984\n",
            "\n",
            "KNN model (k = 8):\n",
            " MAPE: 1.6727383755956438\n",
            " EV: 0.7556380382113017\n",
            " MAX: 16.971573784235055\n",
            "\n",
            "KNN model (k = 9):\n",
            " MAPE: 1.7422108759188544\n",
            " EV: 0.7429487715574974\n",
            " MAX: 19.03764943636862\n",
            "\n",
            "KNN model (k = 10):\n",
            " MAPE: 1.7551306065131005\n",
            " EV: 0.7349421744507866\n",
            " MAX: 20.89573563069568\n",
            "\n",
            "KNN model (k = 20):\n",
            " MAPE: 1.7215559563434775\n",
            " EV: 0.6738352593549253\n",
            " MAX: 28.16789866090925\n",
            "\n",
            "KNN model (k = 50):\n",
            " MAPE: 1.922620869606035\n",
            " EV: 0.5519694435829136\n",
            " MAX: 33.19971985674285\n",
            "\n"
          ]
        }
      ]
    },
    {
      "cell_type": "code",
      "source": [
        "# SVM\n",
        "from sklearn import svm\n",
        "\n",
        "# set up hyperparameters?\n",
        "\n",
        "# fit model\n",
        "svm_model = svm.SVR() # could instead be LinearSVR (faster) or NuSVR (different formulation)\n",
        "svm_fitted = svm_model.fit(train_x, train_y)\n",
        "\n",
        "# test\n",
        "svm_pred_y = svm_fitted.predict(test_x)\n",
        "\n",
        "# evaluation of SVM\n",
        "print('SVM model:')\n",
        "print(' MAPE: ' + str(mean_absolute_percentage_error(test_y, svm_pred_y)))\n",
        "print(' EV: ' + str(explained_variance_score(test_y, svm_pred_y)))\n",
        "print(' MAX: ' + str(max_error(test_y, svm_pred_y)))\n",
        "print()"
      ],
      "metadata": {
        "id": "CRequ5Wl1TES",
        "colab": {
          "base_uri": "https://localhost:8080/"
        },
        "outputId": "a335a0e9-c4ae-4d42-b51d-f1d0a9517f20"
      },
      "execution_count": 124,
      "outputs": [
        {
          "output_type": "stream",
          "name": "stdout",
          "text": [
            "SVM model:\n",
            " MAPE: 1.7686557997000003\n",
            " EV: 0.5897110522392015\n",
            " MAX: 32.61746744901192\n",
            "\n"
          ]
        }
      ]
    },
    {
      "cell_type": "code",
      "source": [
        "# Neural Net (Multi Layer Perceptron)\n",
        "from sklearn import neural_network\n",
        "\n",
        "# hyperparameters (there are more than these)\n",
        "activation = 'relu'\n",
        "\n",
        "# test different values for alpha (0.0004 seems to be best)\n",
        "for a in [0.00005, 0.0001, 0.0002, 0.0003, 0.0004, 0.0005, 0.001, 0.005, 0.01, 0.05, 0.1]:\n",
        "  alpha = a\n",
        "\n",
        "  # fit model\n",
        "  mlp_model = neural_network.MLPRegressor(activation=activation, alpha=alpha, max_iter=500)\n",
        "  mlp_fitted = mlp_model.fit(train_x, train_y)\n",
        "\n",
        "  # test\n",
        "  mlp_pred_y = mlp_fitted.predict(test_x)\n",
        "\n",
        "  # evaluation of MLP\n",
        "  print('MLP model (alpha = ' + str(a) + '):')\n",
        "  print(' MAPE: ' + str(mean_absolute_percentage_error(test_y, mlp_pred_y)))\n",
        "  print(' EV: ' + str(explained_variance_score(test_y, mlp_pred_y)))\n",
        "  print(' MAX: ' + str(max_error(test_y, mlp_pred_y)))\n",
        "  print()"
      ],
      "metadata": {
        "id": "MGdkjfqo1V6n",
        "colab": {
          "base_uri": "https://localhost:8080/"
        },
        "outputId": "711dcf68-7e57-434f-c01b-393aab9dd15c"
      },
      "execution_count": 122,
      "outputs": [
        {
          "output_type": "stream",
          "name": "stdout",
          "text": [
            "MLP model (alpha = 5e-05):\n",
            " MAPE: 1.8753924981103693\n",
            " EV: 0.7467594839122329\n",
            " MAX: 13.305382654108733\n",
            "\n",
            "MLP model (alpha = 0.0001):\n",
            " MAPE: 2.107500061793368\n",
            " EV: 0.7204098013926086\n",
            " MAX: 13.398354353570205\n",
            "\n",
            "MLP model (alpha = 0.0002):\n",
            " MAPE: 2.0041742881535685\n",
            " EV: 0.7616339312493687\n",
            " MAX: 13.138076015364769\n",
            "\n",
            "MLP model (alpha = 0.0003):\n",
            " MAPE: 2.112643442974958\n",
            " EV: 0.7318283809552071\n",
            " MAX: 15.236207853604352\n",
            "\n",
            "MLP model (alpha = 0.0004):\n",
            " MAPE: 1.8540247078646868\n",
            " EV: 0.7567024929577766\n",
            " MAX: 13.594260865649705\n",
            "\n",
            "MLP model (alpha = 0.0005):\n",
            " MAPE: 1.917423276695411\n",
            " EV: 0.7494911845455903\n",
            " MAX: 13.628065623612374\n",
            "\n",
            "MLP model (alpha = 0.001):\n",
            " MAPE: 1.9753379658325434\n",
            " EV: 0.7499589894509922\n",
            " MAX: 13.960926697904036\n",
            "\n",
            "MLP model (alpha = 0.005):\n",
            " MAPE: 1.892523504028804\n",
            " EV: 0.7479624327906\n",
            " MAX: 13.702736874636518\n",
            "\n",
            "MLP model (alpha = 0.01):\n",
            " MAPE: 1.8461909616915924\n",
            " EV: 0.7554357478670101\n",
            " MAX: 13.981240579706803\n",
            "\n",
            "MLP model (alpha = 0.05):\n",
            " MAPE: 2.104739182657119\n",
            " EV: 0.7423351042779215\n",
            " MAX: 13.73399261852482\n",
            "\n",
            "MLP model (alpha = 0.1):\n",
            " MAPE: 1.887313417200872\n",
            " EV: 0.7500229664189104\n",
            " MAX: 14.668810142672477\n",
            "\n"
          ]
        }
      ]
    },
    {
      "cell_type": "code",
      "source": [
        "# hand-select the features that look linearly correlated with the target, and try linear regression on those\n",
        "train_x_trimmed = train_x[:,5:8]\n",
        "test_x_trimmed = test_x[:,5:8]\n",
        "\n",
        "# fit model\n",
        "trimmed_rr_model = linear_model.Ridge()\n",
        "trimmed_rr_fitted = trimmed_rr_model.fit(train_x_trimmed, train_y)\n",
        "\n",
        "# test\n",
        "trimmed_rr_pred_y = trimmed_rr_fitted.predict(test_x_trimmed)\n",
        "\n",
        "# evaluation of Ridge Regression\n",
        "print('Trimmed RR model:')\n",
        "print(' MAPE: ' + str(mean_absolute_percentage_error(test_y, trimmed_rr_pred_y)))\n",
        "print(' EV: ' + str(explained_variance_score(test_y, trimmed_rr_pred_y)))\n",
        "print(' MAX: ' + str(max_error(test_y, trimmed_rr_pred_y)))\n",
        "print(' R2 Score: ' + str(r2_score(test_y, trimmed_rr_pred_y)))\n"
      ],
      "metadata": {
        "colab": {
          "base_uri": "https://localhost:8080/"
        },
        "id": "lgFUM0CuBnPX",
        "outputId": "ad4781b6-1827-46c5-b5d9-8e9954c319be"
      },
      "execution_count": 170,
      "outputs": [
        {
          "output_type": "stream",
          "name": "stdout",
          "text": [
            "Trimmed RR model:\n",
            " MAPE: 1.9004162697662903\n",
            " EV: 0.6209391416900756\n",
            " MAX: 18.428323586863296\n",
            " R2 Score: 0.620270205597264\n"
          ]
        }
      ]
    },
    {
      "cell_type": "code",
      "source": [
        "# hand-select the features that look linearly correlated with the target, and try linear regression on those\n",
        "train_x_single = train_x[:,7]\n",
        "test_x_single = test_x[:,7]\n",
        "\n",
        "# fit model\n",
        "single_rr_model = linear_model.Ridge()\n",
        "single_rr_fitted = single_rr_model.fit(train_x_single.reshape(-1, 1), train_y)\n",
        "\n",
        "# test\n",
        "single_rr_pred_y = single_rr_fitted.predict(test_x_single.reshape(-1, 1))\n",
        "\n",
        "# evaluation of Ridge Regression\n",
        "print('Single RR model:')\n",
        "print(' MAPE: ' + str(mean_absolute_percentage_error(test_y, single_rr_pred_y)))\n",
        "print(' EV: ' + str(explained_variance_score(test_y, single_rr_pred_y)))\n",
        "print(' MAX: ' + str(max_error(test_y, single_rr_pred_y)))\n",
        "print(' R2 Score: ' + str(r2_score(test_y, single_rr_pred_y)))\n"
      ],
      "metadata": {
        "colab": {
          "base_uri": "https://localhost:8080/"
        },
        "id": "TMUGQ_8WH1Ia",
        "outputId": "8e0d8d6d-0f65-454a-a925-7bf9f4b23236"
      },
      "execution_count": 171,
      "outputs": [
        {
          "output_type": "stream",
          "name": "stdout",
          "text": [
            "Single RR model:\n",
            " MAPE: 2.1816213244831744\n",
            " EV: 0.4984564031578399\n",
            " MAX: 19.50058974707359\n",
            " R2 Score: 0.49832898227672917\n"
          ]
        }
      ]
    },
    {
      "cell_type": "code",
      "source": [
        "# standardized version\n",
        "from sklearn import preprocessing\n",
        "\n",
        "# hand-select the features that look linearly correlated with the target, and try linear regression on those\n",
        "train_x_trimmed = train_x[:,5:8]\n",
        "test_x_trimmed = test_x[:,5:8]\n",
        "\n",
        "# standardize scale\n",
        "scaler = preprocessing.StandardScaler().fit(train_x_trimmed)\n",
        "train_x_trimmed_scaled = scaler.transform(train_x_trimmed)\n",
        "test_x_trimmed_scaled = scaler.transform(test_x_trimmed)\n",
        "\n",
        "# fit model\n",
        "trimmed_rr_model = linear_model.Ridge()\n",
        "trimmed_rr_fitted = trimmed_rr_model.fit(train_x_trimmed_scaled, train_y)\n",
        "\n",
        "# test\n",
        "trimmed_rr_pred_y = trimmed_rr_fitted.predict(test_x_trimmed_scaled)\n",
        "\n",
        "# evaluation of Ridge Regression\n",
        "print('Trimmed RR model:')\n",
        "print(' MAPE: ' + str(mean_absolute_percentage_error(test_y, trimmed_rr_pred_y)))\n",
        "print(' EV: ' + str(explained_variance_score(test_y, trimmed_rr_pred_y)))\n",
        "print(' MAX: ' + str(max_error(test_y, trimmed_rr_pred_y)))\n",
        "print(' R2 Score: ' + str(r2_score(test_y, trimmed_rr_pred_y)))\n",
        "\n",
        "# TLDR: standardizing doesn't do much"
      ],
      "metadata": {
        "colab": {
          "base_uri": "https://localhost:8080/"
        },
        "id": "pl0IyXiIJ-Ln",
        "outputId": "773bac75-3cc8-40bd-ffb5-ac8d180cc7e8"
      },
      "execution_count": 172,
      "outputs": [
        {
          "output_type": "stream",
          "name": "stdout",
          "text": [
            "Trimmed RR model:\n",
            " MAPE: 1.9002633313987518\n",
            " EV: 0.6209346412382502\n",
            " MAX: 18.42786144499231\n",
            " R2 Score: 0.6202661484151222\n"
          ]
        }
      ]
    }
  ]
}