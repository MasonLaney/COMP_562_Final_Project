{
  "nbformat": 4,
  "nbformat_minor": 0,
  "metadata": {
    "colab": {
      "name": "COMP 562 Final.ipynb",
      "provenance": []
    },
    "kernelspec": {
      "name": "python3",
      "display_name": "Python 3"
    },
    "language_info": {
      "name": "python"
    }
  },
  "cells": [
    {
      "cell_type": "code",
      "execution_count": 177,
      "metadata": {
        "id": "aJcAlesL03rt"
      },
      "outputs": [],
      "source": [
        "# data setup\n",
        "import numpy as np\n",
        "import matplotlib.pyplot as plt\n",
        "import pandas as pd\n",
        "\n",
        "# import data from file\n",
        "pd_data = pd.read_excel(r'adjusted_macro_features.xlsx', sheet_name='features')\n",
        "pd_data = pd_data.sample(frac=1)\n",
        "\n",
        "# convert data\n",
        "data = pd_data.to_numpy()\n",
        "train = data[:3800]\n",
        "test = data[3800:]\n",
        "\n",
        "train_x = train[:,1:]\n",
        "train_y = train[:,0]\n",
        "test_x = test[:,1:]\n",
        "test_y = test[:,0]\n"
      ]
    },
    {
      "cell_type": "code",
      "source": [
        "# evaluation metrics\n",
        "from sklearn.metrics import mean_absolute_percentage_error, explained_variance_score, max_error, r2_score\n",
        "\n",
        "print('Evaluation Metrics:')\n",
        "print(' MAPE: Mean Absolute Percentage Error (1 = 100% error; lower is better)')\n",
        "print(' EV: Explained Variance ([0, 1], higher is better)')\n",
        "print(' MAX: Max Error (raw number, lower is better)')\n",
        "print()"
      ],
      "metadata": {
        "colab": {
          "base_uri": "https://localhost:8080/"
        },
        "id": "rnXBTmZB1_sC",
        "outputId": "40c5b2fd-81c0-45b2-9374-9123ee584922"
      },
      "execution_count": 178,
      "outputs": [
        {
          "output_type": "stream",
          "name": "stdout",
          "text": [
            "Evaluation Metrics:\n",
            " MAPE: Mean Absolute Percentage Error (1 = 100% error; lower is better)\n",
            " EV: Explained Variance ([0, 1], higher is better)\n",
            " MAX: Max Error (raw number, lower is better)\n",
            "\n"
          ]
        }
      ]
    },
    {
      "cell_type": "code",
      "source": [
        "# Linear Regression\n",
        "from sklearn import linear_model\n",
        "\n",
        "# fit model\n",
        "lr_model = linear_model.LinearRegression()\n",
        "lr_fitted = lr_model.fit(train_x, train_y)\n",
        "\n",
        "# test\n",
        "lr_pred_y = lr_fitted.predict(test_x)\n",
        "\n",
        "# evaluation of Linear Regression\n",
        "print('LR model:')\n",
        "print(' MAPE: ' + str(mean_absolute_percentage_error(test_y, lr_pred_y)))\n",
        "print(' EV: ' + str(explained_variance_score(test_y, lr_pred_y)))\n",
        "print(' MAX: ' + str(max_error(test_y, lr_pred_y)))\n",
        "print()"
      ],
      "metadata": {
        "colab": {
          "base_uri": "https://localhost:8080/"
        },
        "id": "1LMX7fMMwSoN",
        "outputId": "d93c23dd-c114-4e66-835a-85972e015c8a"
      },
      "execution_count": 179,
      "outputs": [
        {
          "output_type": "stream",
          "name": "stdout",
          "text": [
            "LR model:\n",
            " MAPE: 1.4594868015272269\n",
            " EV: 0.10600130110611061\n",
            " MAX: 31.30573005472954\n",
            "\n"
          ]
        }
      ]
    },
    {
      "cell_type": "code",
      "source": [
        "# Ridge Regression\n",
        "\n",
        "# hyperparameters\n",
        "alpha = 1\n",
        "\n",
        "# fit model\n",
        "rr_model = linear_model.Ridge(alpha)\n",
        "rr_fitted = rr_model.fit(train_x, train_y)\n",
        "\n",
        "# test\n",
        "rr_pred_y = rr_fitted.predict(test_x)\n",
        "\n",
        "# evaluation of Ridge Regression\n",
        "print('RR model:')\n",
        "print(' MAPE: ' + str(mean_absolute_percentage_error(test_y, rr_pred_y)))\n",
        "print(' EV: ' + str(explained_variance_score(test_y, rr_pred_y)))\n",
        "print(' MAX: ' + str(max_error(test_y, rr_pred_y)))\n",
        "print()"
      ],
      "metadata": {
        "colab": {
          "base_uri": "https://localhost:8080/"
        },
        "id": "VhQlyapow_JZ",
        "outputId": "1d9afefc-5ed2-425d-d807-56877a68537a"
      },
      "execution_count": 180,
      "outputs": [
        {
          "output_type": "stream",
          "name": "stdout",
          "text": [
            "RR model:\n",
            " MAPE: 1.4594274820730626\n",
            " EV: 0.10599329507931932\n",
            " MAX: 31.30588244015008\n",
            "\n"
          ]
        }
      ]
    },
    {
      "cell_type": "code",
      "source": [
        "# Random Forests\n",
        "from sklearn import ensemble\n",
        "\n",
        "# hyperparameters\n",
        "max_depth = None\n",
        "max_features = 0.5\n",
        "\n",
        "# test different numbers of trees (50 seems to be best)\n",
        "for i in [10, 20, 30, 40, 50, 100, 200, 500]:\n",
        "  n_estimators = i\n",
        "  \n",
        "  # fit model\n",
        "  rf_model = ensemble.RandomForestRegressor(n_estimators=n_estimators, max_depth=max_depth, max_features=max_features)\n",
        "  rf_fitted = rf_model.fit(train_x, train_y)\n",
        "\n",
        "  # test\n",
        "  rf_pred_y = rf_fitted.predict(test_x)\n",
        "\n",
        "  # evaluation of Random Forest\n",
        "  print('RF model (' + str(i) + ' trees):')\n",
        "  print(' MAPE: ' + str(mean_absolute_percentage_error(test_y, rf_pred_y)))\n",
        "  print(' EV: ' + str(explained_variance_score(test_y, rf_pred_y)))\n",
        "  print(' MAX: ' + str(max_error(test_y, rf_pred_y)))\n",
        "  print()"
      ],
      "metadata": {
        "colab": {
          "base_uri": "https://localhost:8080/"
        },
        "id": "DyTe5jmfyoPA",
        "outputId": "c15197cb-849d-49d1-a4fc-bcba9588d3c2"
      },
      "execution_count": 181,
      "outputs": [
        {
          "output_type": "stream",
          "name": "stdout",
          "text": [
            "RF model (10 trees):\n",
            " MAPE: 1.093233750183711\n",
            " EV: 0.831110486369741\n",
            " MAX: 11.385057826919738\n",
            "\n",
            "RF model (20 trees):\n",
            " MAPE: 1.0288800441310277\n",
            " EV: 0.8215288713399911\n",
            " MAX: 13.205598790030853\n",
            "\n",
            "RF model (30 trees):\n",
            " MAPE: 0.999037181262781\n",
            " EV: 0.8357931144125668\n",
            " MAX: 11.41502223668337\n",
            "\n",
            "RF model (40 trees):\n",
            " MAPE: 0.9713697836217793\n",
            " EV: 0.8368641672431506\n",
            " MAX: 10.874950797394758\n",
            "\n",
            "RF model (50 trees):\n",
            " MAPE: 0.9456079580371276\n",
            " EV: 0.8500698466520283\n",
            " MAX: 10.164067101546646\n",
            "\n",
            "RF model (100 trees):\n",
            " MAPE: 0.9429226303375307\n",
            " EV: 0.8485873473897688\n",
            " MAX: 10.072649069902909\n",
            "\n",
            "RF model (200 trees):\n",
            " MAPE: 0.9649978358039425\n",
            " EV: 0.85122923777356\n",
            " MAX: 10.947975195135577\n",
            "\n",
            "RF model (500 trees):\n",
            " MAPE: 0.9632976509385384\n",
            " EV: 0.8502392262844651\n",
            " MAX: 11.27604171037704\n",
            "\n"
          ]
        }
      ]
    },
    {
      "cell_type": "code",
      "source": [
        "# Random Forests\n",
        "from sklearn import ensemble\n",
        "\n",
        "# hyperparameters\n",
        "max_depth = None\n",
        "n_estimators = 50\n",
        "\n",
        "# test different numbers for percentage of features used (0.3 seems to be best)\n",
        "for i in [0.1, 0.2, 0.3, 0.4, 0.5, 0.6, 0.7, 0.8, 0.9, 1]:\n",
        "  max_features = i\n",
        "  \n",
        "  # fit model\n",
        "  rf_model = ensemble.RandomForestRegressor(n_estimators=n_estimators, max_depth=max_depth, max_features=max_features)\n",
        "  rf_fitted = rf_model.fit(train_x, train_y)\n",
        "\n",
        "  # test\n",
        "  rf_pred_y = rf_fitted.predict(test_x)\n",
        "\n",
        "  # evaluation of Random Forest\n",
        "  print('RF model (max_features = ' + str(i) + '):')\n",
        "  print(' MAPE: ' + str(mean_absolute_percentage_error(test_y, rf_pred_y)))\n",
        "  print(' EV: ' + str(explained_variance_score(test_y, rf_pred_y)))\n",
        "  print(' MAX: ' + str(max_error(test_y, rf_pred_y)))\n",
        "  print()"
      ],
      "metadata": {
        "colab": {
          "base_uri": "https://localhost:8080/"
        },
        "id": "f7fm8PoR5Xia",
        "outputId": "50ca0813-4a28-49db-9048-1e68573de1e8"
      },
      "execution_count": 185,
      "outputs": [
        {
          "output_type": "stream",
          "name": "stdout",
          "text": [
            "RF model (max_features = 0.1):\n",
            " MAPE: 0.9622850325002541\n",
            " EV: 0.8020792063793278\n",
            " MAX: 12.695736026860448\n",
            "\n",
            "RF model (max_features = 0.2):\n",
            " MAPE: 1.014785956217333\n",
            " EV: 0.8424864422665324\n",
            " MAX: 10.349459851749613\n",
            "\n",
            "RF model (max_features = 0.3):\n",
            " MAPE: 0.9501127748303018\n",
            " EV: 0.8432579072243712\n",
            " MAX: 10.619128965099112\n",
            "\n",
            "RF model (max_features = 0.4):\n",
            " MAPE: 0.9291555790532946\n",
            " EV: 0.8438624724268549\n",
            " MAX: 11.711479107251515\n",
            "\n",
            "RF model (max_features = 0.5):\n",
            " MAPE: 0.9582262458882704\n",
            " EV: 0.8395647818354786\n",
            " MAX: 11.962955187966347\n",
            "\n",
            "RF model (max_features = 0.6):\n",
            " MAPE: 1.0162632869758057\n",
            " EV: 0.8457546341517502\n",
            " MAX: 10.776874014579565\n",
            "\n",
            "RF model (max_features = 0.7):\n",
            " MAPE: 1.0073038180120266\n",
            " EV: 0.8327223147205658\n",
            " MAX: 11.856425376936405\n",
            "\n",
            "RF model (max_features = 0.8):\n",
            " MAPE: 1.0176563701735122\n",
            " EV: 0.8442774437573017\n",
            " MAX: 12.756235026342306\n",
            "\n",
            "RF model (max_features = 0.9):\n",
            " MAPE: 0.9519455977899722\n",
            " EV: 0.8510790535252338\n",
            " MAX: 10.60227138933299\n",
            "\n",
            "RF model (max_features = 1):\n",
            " MAPE: 0.9982573457641564\n",
            " EV: 0.7953745439964283\n",
            " MAX: 15.370374864901304\n",
            "\n"
          ]
        }
      ]
    },
    {
      "cell_type": "code",
      "source": [
        "# KNN\n",
        "from sklearn import neighbors\n",
        "\n",
        "# hyperparameters\n",
        "weights = \"uniform\" # uniform weights, could instead be \"distance\"\n",
        "\n",
        "# test different values for k (3 seems to be best)\n",
        "for k in [1, 2, 3, 4, 5, 6, 7, 8, 9, 10, 20, 50]:\n",
        "  num_neighbors = k\n",
        "\n",
        "  # fit model\n",
        "  knn_model = neighbors.KNeighborsRegressor(num_neighbors, weights=weights)\n",
        "  knn_fitted = knn_model.fit(train_x, train_y)\n",
        "\n",
        "  # test\n",
        "  knn_pred_y = knn_fitted.predict(test_x)\n",
        "\n",
        "  # evaluation of KNN\n",
        "  print('KNN model (k = ' + str(k) + '):')\n",
        "  print(' MAPE: ' + str(mean_absolute_percentage_error(test_y, knn_pred_y)))\n",
        "  print(' EV: ' + str(explained_variance_score(test_y, knn_pred_y)))\n",
        "  print(' MAX: ' + str(max_error(test_y, knn_pred_y)))\n",
        "  print()"
      ],
      "metadata": {
        "id": "-xTBruO01Sky",
        "colab": {
          "base_uri": "https://localhost:8080/"
        },
        "outputId": "b461c0b5-3e7b-458a-f19a-ed380531ce02"
      },
      "execution_count": 188,
      "outputs": [
        {
          "output_type": "stream",
          "name": "stdout",
          "text": [
            "KNN model (k = 1):\n",
            " MAPE: 1.3757771112026875\n",
            " EV: 0.6542440299288677\n",
            " MAX: 31.3715031139679\n",
            "\n",
            "KNN model (k = 2):\n",
            " MAPE: 1.411441119804068\n",
            " EV: 0.6483677770946704\n",
            " MAX: 19.612433425014395\n",
            "\n",
            "KNN model (k = 3):\n",
            " MAPE: 1.3248785433819803\n",
            " EV: 0.614929523111452\n",
            " MAX: 21.665143077834514\n",
            "\n",
            "KNN model (k = 4):\n",
            " MAPE: 1.427419079797442\n",
            " EV: 0.5728821828164918\n",
            " MAX: 20.82228785626504\n",
            "\n",
            "KNN model (k = 5):\n",
            " MAPE: 1.3901334808675976\n",
            " EV: 0.5393783844833656\n",
            " MAX: 22.515420040075394\n",
            "\n",
            "KNN model (k = 6):\n",
            " MAPE: 1.4149532530097506\n",
            " EV: 0.5034252094766773\n",
            " MAX: 23.559418859783815\n",
            "\n",
            "KNN model (k = 7):\n",
            " MAPE: 1.463922153391278\n",
            " EV: 0.47575453350797836\n",
            " MAX: 23.754924704531383\n",
            "\n",
            "KNN model (k = 8):\n",
            " MAPE: 1.4636834688624145\n",
            " EV: 0.4462155144733544\n",
            " MAX: 23.98015639748787\n",
            "\n",
            "KNN model (k = 9):\n",
            " MAPE: 1.4926055554800466\n",
            " EV: 0.418841176411072\n",
            " MAX: 24.30633080843147\n",
            "\n",
            "KNN model (k = 10):\n",
            " MAPE: 1.5226534598915245\n",
            " EV: 0.37940226380623987\n",
            " MAX: 23.142932218591298\n",
            "\n",
            "KNN model (k = 20):\n",
            " MAPE: 1.5523203419268272\n",
            " EV: 0.2887067044492301\n",
            " MAX: 21.889987899591848\n",
            "\n",
            "KNN model (k = 50):\n",
            " MAPE: 1.5248141725917947\n",
            " EV: 0.18407944590979697\n",
            " MAX: 24.769560920925986\n",
            "\n"
          ]
        }
      ]
    },
    {
      "cell_type": "code",
      "source": [
        "# SVM\n",
        "from sklearn import svm\n",
        "\n",
        "# set up hyperparameters?\n",
        "\n",
        "# fit model\n",
        "svm_model = svm.SVR() # could instead be LinearSVR (faster) or NuSVR (different formulation)\n",
        "svm_fitted = svm_model.fit(train_x, train_y)\n",
        "\n",
        "# test\n",
        "svm_pred_y = svm_fitted.predict(test_x)\n",
        "\n",
        "# evaluation of SVM\n",
        "print('SVM model:')\n",
        "print(' MAPE: ' + str(mean_absolute_percentage_error(test_y, svm_pred_y)))\n",
        "print(' EV: ' + str(explained_variance_score(test_y, svm_pred_y)))\n",
        "print(' MAX: ' + str(max_error(test_y, svm_pred_y)))\n",
        "print()"
      ],
      "metadata": {
        "id": "CRequ5Wl1TES",
        "colab": {
          "base_uri": "https://localhost:8080/"
        },
        "outputId": "a39114f5-d255-4379-ff6c-c62a70f029ac"
      },
      "execution_count": 189,
      "outputs": [
        {
          "output_type": "stream",
          "name": "stdout",
          "text": [
            "SVM model:\n",
            " MAPE: 1.6690382981428444\n",
            " EV: 0.15751589871136173\n",
            " MAX: 28.01213244677832\n",
            "\n"
          ]
        }
      ]
    },
    {
      "cell_type": "code",
      "source": [
        "# Neural Net (Multi Layer Perceptron)\n",
        "from sklearn import neural_network\n",
        "\n",
        "# hyperparameters (there are more than these)\n",
        "activation = 'relu'\n",
        "\n",
        "# test different values for alpha (0.01 seems to be best)\n",
        "for a in [0.00005, 0.0001, 0.0002, 0.0003, 0.0004, 0.0005, 0.001, 0.005, 0.01, 0.05, 0.1]:\n",
        "  alpha = a\n",
        "\n",
        "  # fit model\n",
        "  mlp_model = neural_network.MLPRegressor(activation=activation, alpha=alpha, max_iter=500)\n",
        "  mlp_fitted = mlp_model.fit(train_x, train_y)\n",
        "\n",
        "  # test\n",
        "  mlp_pred_y = mlp_fitted.predict(test_x)\n",
        "\n",
        "  # evaluation of MLP\n",
        "  print('MLP model (alpha = ' + str(a) + '):')\n",
        "  print(' MAPE: ' + str(mean_absolute_percentage_error(test_y, mlp_pred_y)))\n",
        "  print(' EV: ' + str(explained_variance_score(test_y, mlp_pred_y)))\n",
        "  print(' MAX: ' + str(max_error(test_y, mlp_pred_y)))\n",
        "  print()"
      ],
      "metadata": {
        "id": "MGdkjfqo1V6n",
        "colab": {
          "base_uri": "https://localhost:8080/"
        },
        "outputId": "88ae7deb-25ac-4149-9797-8dd2dcf06e9e"
      },
      "execution_count": 190,
      "outputs": [
        {
          "output_type": "stream",
          "name": "stdout",
          "text": [
            "MLP model (alpha = 5e-05):\n",
            " MAPE: 1.6929751630228693\n",
            " EV: 0.4463196699460181\n",
            " MAX: 24.030114125690353\n",
            "\n",
            "MLP model (alpha = 0.0001):\n",
            " MAPE: 2.226083769546122\n",
            " EV: 0.4168962942306772\n",
            " MAX: 25.955027339398455\n",
            "\n",
            "MLP model (alpha = 0.0002):\n",
            " MAPE: 1.6211177417540172\n",
            " EV: 0.49076453871580283\n",
            " MAX: 21.046569312902513\n",
            "\n",
            "MLP model (alpha = 0.0003):\n",
            " MAPE: 1.6760322995580605\n",
            " EV: 0.48382321451073584\n",
            " MAX: 22.442742042717043\n",
            "\n",
            "MLP model (alpha = 0.0004):\n",
            " MAPE: 1.7304329783307892\n",
            " EV: 0.484889008176706\n",
            " MAX: 19.65181154358579\n",
            "\n",
            "MLP model (alpha = 0.0005):\n",
            " MAPE: 1.7185314582060915\n",
            " EV: 0.46361091464191984\n",
            " MAX: 22.353205739175436\n",
            "\n",
            "MLP model (alpha = 0.001):\n",
            " MAPE: 1.6190239189670677\n",
            " EV: 0.4644319516456934\n",
            " MAX: 22.036532363978395\n",
            "\n",
            "MLP model (alpha = 0.005):\n",
            " MAPE: 1.7099712845222113\n",
            " EV: 0.4046048036767166\n",
            " MAX: 23.004188860999868\n",
            "\n",
            "MLP model (alpha = 0.01):\n",
            " MAPE: 1.522286363200566\n",
            " EV: 0.5285079742052203\n",
            " MAX: 22.24796793167023\n",
            "\n",
            "MLP model (alpha = 0.05):\n",
            " MAPE: 1.8530114819664911\n",
            " EV: 0.45671089561153766\n",
            " MAX: 22.390160186329727\n",
            "\n",
            "MLP model (alpha = 0.1):\n",
            " MAPE: 1.8730156870550927\n",
            " EV: 0.4608831032234948\n",
            " MAX: 24.10288578033948\n",
            "\n"
          ]
        }
      ]
    },
    {
      "cell_type": "code",
      "source": [
        "# hand-select the features that look linearly correlated with the target, and try linear regression on those\n",
        "train_x_trimmed = train_x[:,5:8]\n",
        "test_x_trimmed = test_x[:,5:8]\n",
        "\n",
        "# fit model\n",
        "trimmed_rr_model = linear_model.Ridge()\n",
        "trimmed_rr_fitted = trimmed_rr_model.fit(train_x_trimmed, train_y)\n",
        "\n",
        "# test\n",
        "trimmed_rr_pred_y = trimmed_rr_fitted.predict(test_x_trimmed)\n",
        "\n",
        "# evaluation of Ridge Regression\n",
        "print('Trimmed RR model:')\n",
        "print(' MAPE: ' + str(mean_absolute_percentage_error(test_y, trimmed_rr_pred_y)))\n",
        "print(' EV: ' + str(explained_variance_score(test_y, trimmed_rr_pred_y)))\n",
        "print(' MAX: ' + str(max_error(test_y, trimmed_rr_pred_y)))\n",
        "print(' R2 Score: ' + str(r2_score(test_y, trimmed_rr_pred_y)))\n"
      ],
      "metadata": {
        "colab": {
          "base_uri": "https://localhost:8080/"
        },
        "id": "lgFUM0CuBnPX",
        "outputId": "6da78c5c-af2a-4436-d40a-82c1a1713e31"
      },
      "execution_count": 191,
      "outputs": [
        {
          "output_type": "stream",
          "name": "stdout",
          "text": [
            "Trimmed RR model:\n",
            " MAPE: 1.3098610341697563\n",
            " EV: 0.004583228966891673\n",
            " MAX: 32.40608071540558\n",
            " R2 Score: 0.0019264055638528177\n"
          ]
        }
      ]
    },
    {
      "cell_type": "code",
      "source": [
        "# hand-select the features that look linearly correlated with the target, and try linear regression on those\n",
        "train_x_single = train_x[:,5]\n",
        "test_x_single = test_x[:,5]\n",
        "\n",
        "# fit model\n",
        "single_rr_model = linear_model.Ridge()\n",
        "single_rr_fitted = single_rr_model.fit(train_x_single.reshape(-1, 1), train_y)\n",
        "\n",
        "# test\n",
        "single_rr_pred_y = single_rr_fitted.predict(test_x_single.reshape(-1, 1))\n",
        "\n",
        "# evaluation of Ridge Regression\n",
        "print('Single RR model:')\n",
        "print(' MAPE: ' + str(mean_absolute_percentage_error(test_y, single_rr_pred_y)))\n",
        "print(' EV: ' + str(explained_variance_score(test_y, single_rr_pred_y)))\n",
        "print(' MAX: ' + str(max_error(test_y, single_rr_pred_y)))\n",
        "print(' R2 Score: ' + str(r2_score(test_y, single_rr_pred_y)))\n"
      ],
      "metadata": {
        "colab": {
          "base_uri": "https://localhost:8080/"
        },
        "id": "TMUGQ_8WH1Ia",
        "outputId": "9869367f-e2fc-415b-eac5-682e6c8b750a"
      },
      "execution_count": 195,
      "outputs": [
        {
          "output_type": "stream",
          "name": "stdout",
          "text": [
            "Single RR model:\n",
            " MAPE: 1.3029707382118898\n",
            " EV: 0.0007000020963148224\n",
            " MAX: 32.29062260454004\n",
            " R2 Score: -0.002060171589892912\n"
          ]
        }
      ]
    },
    {
      "cell_type": "code",
      "source": [
        "# standardized version\n",
        "from sklearn import preprocessing\n",
        "\n",
        "# hand-select the features that look linearly correlated with the target, and try linear regression on those\n",
        "train_x_trimmed = train_x[:,5:8]\n",
        "test_x_trimmed = test_x[:,5:8]\n",
        "\n",
        "# standardize scale\n",
        "scaler = preprocessing.StandardScaler().fit(train_x_trimmed)\n",
        "train_x_trimmed_scaled = scaler.transform(train_x_trimmed)\n",
        "test_x_trimmed_scaled = scaler.transform(test_x_trimmed)\n",
        "\n",
        "# fit model\n",
        "trimmed_rr_model = linear_model.Ridge()\n",
        "trimmed_rr_fitted = trimmed_rr_model.fit(train_x_trimmed_scaled, train_y)\n",
        "\n",
        "# test\n",
        "trimmed_rr_pred_y = trimmed_rr_fitted.predict(test_x_trimmed_scaled)\n",
        "\n",
        "# evaluation of Ridge Regression\n",
        "print('Trimmed RR model:')\n",
        "print(' MAPE: ' + str(mean_absolute_percentage_error(test_y, trimmed_rr_pred_y)))\n",
        "print(' EV: ' + str(explained_variance_score(test_y, trimmed_rr_pred_y)))\n",
        "print(' MAX: ' + str(max_error(test_y, trimmed_rr_pred_y)))\n",
        "print(' R2 Score: ' + str(r2_score(test_y, trimmed_rr_pred_y)))\n",
        "\n",
        "# TLDR: standardizing doesn't do much"
      ],
      "metadata": {
        "colab": {
          "base_uri": "https://localhost:8080/"
        },
        "id": "pl0IyXiIJ-Ln",
        "outputId": "275058e0-1144-4e02-9efc-4253abadbcb9"
      },
      "execution_count": 193,
      "outputs": [
        {
          "output_type": "stream",
          "name": "stdout",
          "text": [
            "Trimmed RR model:\n",
            " MAPE: 1.3098402707624255\n",
            " EV: 0.004578423243388197\n",
            " MAX: 32.40575951705523\n",
            " R2 Score: 0.0019213733089672447\n"
          ]
        }
      ]
    }
  ]
}